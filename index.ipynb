{
 "cells": [
  {
   "attachments": {},
   "cell_type": "markdown",
   "metadata": {},
   "source": [
    "# Medicare Statistics example:\n",
    "\n",
    "For an examaple of applying statistics to the real world."
   ]
  },
  {
   "attachments": {},
   "cell_type": "markdown",
   "metadata": {},
   "source": [
    "## Business Question\n",
    "Let's compare two facilities or organizations to see if there is a significant difference in MIPs score"
   ]
  },
  {
   "attachments": {},
   "cell_type": "markdown",
   "metadata": {},
   "source": [
    "[Data Source (CMS.gov)](https://data.cms.gov/provider-data/dataset/a174-a962)\n",
    ">This file contains Merit-Based Incentive Payment System (MIPS) Final Scores and performance category scores for clinicians. "
   ]
  },
  {
   "attachments": {},
   "cell_type": "markdown",
   "metadata": {},
   "source": [
    "![Image](dd2.png)\n",
    "![Image](dd1.png)"
   ]
  },
  {
   "cell_type": "code",
   "execution_count": 1,
   "metadata": {},
   "outputs": [],
   "source": [
    "import pandas as pd # import pandas to read in the data\n",
    "from scipy import stats\n",
    "import numpy as np\n",
    "import seaborn as sns\n",
    "import matplotlib.pyplot as plt\n"
   ]
  },
  {
   "attachments": {},
   "cell_type": "markdown",
   "metadata": {},
   "source": [
    "# Data Cleaning\n",
    "Todo: \n",
    "- Focus in on the final MIPs score\n",
    "- Handle missing data for organizations & facilities"
   ]
  },
  {
   "cell_type": "code",
   "execution_count": 2,
   "metadata": {},
   "outputs": [],
   "source": [
    "df = pd.read_csv('ec_score_file.csv')"
   ]
  },
  {
   "cell_type": "code",
   "execution_count": 4,
   "metadata": {},
   "outputs": [
    {
     "data": {
      "text/html": [
       "<div>\n",
       "<style scoped>\n",
       "    .dataframe tbody tr th:only-of-type {\n",
       "        vertical-align: middle;\n",
       "    }\n",
       "\n",
       "    .dataframe tbody tr th {\n",
       "        vertical-align: top;\n",
       "    }\n",
       "\n",
       "    .dataframe thead th {\n",
       "        text-align: right;\n",
       "    }\n",
       "</style>\n",
       "<table border=\"1\" class=\"dataframe\">\n",
       "  <thead>\n",
       "    <tr style=\"text-align: right;\">\n",
       "      <th></th>\n",
       "      <th>NPI</th>\n",
       "      <th>Org_PAC_ID</th>\n",
       "      <th>lst_nm</th>\n",
       "      <th>frst_nm</th>\n",
       "      <th>source</th>\n",
       "      <th>facility_ccn</th>\n",
       "      <th>facility_lbn</th>\n",
       "      <th>Quality_category_score</th>\n",
       "      <th>PI_category_score</th>\n",
       "      <th>IA_category_score</th>\n",
       "      <th>Cost_category_score</th>\n",
       "      <th>final_MIPS_score_without_CPB</th>\n",
       "      <th>final_MIPS_score</th>\n",
       "    </tr>\n",
       "  </thead>\n",
       "  <tbody>\n",
       "    <tr>\n",
       "      <th>0</th>\n",
       "      <td>1003028101</td>\n",
       "      <td>NaN</td>\n",
       "      <td>KATZ</td>\n",
       "      <td>KENNETH</td>\n",
       "      <td>individual</td>\n",
       "      <td>NaN</td>\n",
       "      <td>NaN</td>\n",
       "      <td>NaN</td>\n",
       "      <td>NaN</td>\n",
       "      <td>NaN</td>\n",
       "      <td>NaN</td>\n",
       "      <td>60.0000</td>\n",
       "      <td>60.0000</td>\n",
       "    </tr>\n",
       "    <tr>\n",
       "      <th>1</th>\n",
       "      <td>1003028556</td>\n",
       "      <td>NaN</td>\n",
       "      <td>HEIDARI</td>\n",
       "      <td>NEDA</td>\n",
       "      <td>individual</td>\n",
       "      <td>NaN</td>\n",
       "      <td>NaN</td>\n",
       "      <td>94.641</td>\n",
       "      <td>58.0</td>\n",
       "      <td>20.0</td>\n",
       "      <td>NaN</td>\n",
       "      <td>76.9526</td>\n",
       "      <td>82.1725</td>\n",
       "    </tr>\n",
       "    <tr>\n",
       "      <th>2</th>\n",
       "      <td>1003220351</td>\n",
       "      <td>NaN</td>\n",
       "      <td>NAUMOVA</td>\n",
       "      <td>YULIA</td>\n",
       "      <td>individual</td>\n",
       "      <td>NaN</td>\n",
       "      <td>NaN</td>\n",
       "      <td>NaN</td>\n",
       "      <td>NaN</td>\n",
       "      <td>NaN</td>\n",
       "      <td>NaN</td>\n",
       "      <td>60.0000</td>\n",
       "      <td>60.0000</td>\n",
       "    </tr>\n",
       "    <tr>\n",
       "      <th>3</th>\n",
       "      <td>1003808494</td>\n",
       "      <td>NaN</td>\n",
       "      <td>CHANG</td>\n",
       "      <td>ANDREW</td>\n",
       "      <td>individual</td>\n",
       "      <td>NaN</td>\n",
       "      <td>NaN</td>\n",
       "      <td>NaN</td>\n",
       "      <td>NaN</td>\n",
       "      <td>NaN</td>\n",
       "      <td>NaN</td>\n",
       "      <td>60.0000</td>\n",
       "      <td>60.0000</td>\n",
       "    </tr>\n",
       "    <tr>\n",
       "      <th>4</th>\n",
       "      <td>1003813262</td>\n",
       "      <td>NaN</td>\n",
       "      <td>HALAWA</td>\n",
       "      <td>ABDUL</td>\n",
       "      <td>individual</td>\n",
       "      <td>NaN</td>\n",
       "      <td>NaN</td>\n",
       "      <td>30.000</td>\n",
       "      <td>NaN</td>\n",
       "      <td>40.0</td>\n",
       "      <td>NaN</td>\n",
       "      <td>40.5000</td>\n",
       "      <td>47.1600</td>\n",
       "    </tr>\n",
       "  </tbody>\n",
       "</table>\n",
       "</div>"
      ],
      "text/plain": [
       "          NPI   Org_PAC_ID   lst_nm  frst_nm      source   facility_ccn  \\\n",
       "0  1003028101          NaN     KATZ  KENNETH  individual            NaN   \n",
       "1  1003028556          NaN  HEIDARI     NEDA  individual            NaN   \n",
       "2  1003220351          NaN  NAUMOVA    YULIA  individual            NaN   \n",
       "3  1003808494          NaN    CHANG   ANDREW  individual            NaN   \n",
       "4  1003813262          NaN   HALAWA    ABDUL  individual            NaN   \n",
       "\n",
       "    facility_lbn   Quality_category_score   PI_category_score  \\\n",
       "0            NaN                      NaN                 NaN   \n",
       "1            NaN                   94.641                58.0   \n",
       "2            NaN                      NaN                 NaN   \n",
       "3            NaN                      NaN                 NaN   \n",
       "4            NaN                   30.000                 NaN   \n",
       "\n",
       "    IA_category_score   Cost_category_score   final_MIPS_score_without_CPB  \\\n",
       "0                 NaN                   NaN                        60.0000   \n",
       "1                20.0                   NaN                        76.9526   \n",
       "2                 NaN                   NaN                        60.0000   \n",
       "3                 NaN                   NaN                        60.0000   \n",
       "4                40.0                   NaN                        40.5000   \n",
       "\n",
       "    final_MIPS_score  \n",
       "0            60.0000  \n",
       "1            82.1725  \n",
       "2            60.0000  \n",
       "3            60.0000  \n",
       "4            47.1600  "
      ]
     },
     "execution_count": 4,
     "metadata": {},
     "output_type": "execute_result"
    }
   ],
   "source": [
    "# Check out the head of the data\n",
    "df.head()"
   ]
  },
  {
   "attachments": {},
   "cell_type": "markdown",
   "metadata": {},
   "source": [
    "**Observations**\n",
    "- There's a significant number of missing data\n",
    "- There's in NPI (identifies a clinician)\n",
    "- There are a bunch of scores for specific categories, and a final score\n",
    "- There are names of clinicians which we will anonymize\n",
    "- There are organization and facility identifiers, and some are null\n"
   ]
  },
  {
   "cell_type": "code",
   "execution_count": 12,
   "metadata": {},
   "outputs": [
    {
     "name": "stdout",
     "output_type": "stream",
     "text": [
      "<class 'pandas.core.frame.DataFrame'>\n",
      "RangeIndex: 698883 entries, 0 to 698882\n",
      "Data columns (total 13 columns):\n",
      " #   Column                         Non-Null Count   Dtype  \n",
      "---  ------                         --------------   -----  \n",
      " 0   NPI                            698883 non-null  int64  \n",
      " 1    Org_PAC_ID                    697134 non-null  float64\n",
      " 2    lst_nm                        698858 non-null  object \n",
      " 3    frst_nm                       698870 non-null  object \n",
      " 4    source                        698883 non-null  object \n",
      " 5    facility_ccn                  0 non-null       float64\n",
      " 6    facility_lbn                  0 non-null       float64\n",
      " 7    Quality_category_score        604815 non-null  float64\n",
      " 8    PI_category_score             444186 non-null  float64\n",
      " 9    IA_category_score             625268 non-null  float64\n",
      " 10   Cost_category_score           0 non-null       float64\n",
      " 11   final_MIPS_score_without_CPB  698883 non-null  float64\n",
      " 12   final_MIPS_score              698883 non-null  float64\n",
      "dtypes: float64(9), int64(1), object(3)\n",
      "memory usage: 69.3+ MB\n"
     ]
    }
   ],
   "source": [
    "df.info()"
   ]
  },
  {
   "attachments": {},
   "cell_type": "markdown",
   "metadata": {},
   "source": [
    "**Observations**\n",
    "- There are no facility data so we can't compare facilities"
   ]
  },
  {
   "cell_type": "code",
   "execution_count": 18,
   "metadata": {},
   "outputs": [],
   "source": [
    "# Create a copy of our data for cleaning\n",
    "df_clean = df"
   ]
  },
  {
   "cell_type": "code",
   "execution_count": 26,
   "metadata": {},
   "outputs": [],
   "source": [
    "# clean column names by removing any excess spaces\n",
    "df_clean = df_clean.rename(columns=lambda x: x.replace(\" \", \"\"))"
   ]
  },
  {
   "cell_type": "code",
   "execution_count": 27,
   "metadata": {},
   "outputs": [
    {
     "data": {
      "text/html": [
       "<div>\n",
       "<style scoped>\n",
       "    .dataframe tbody tr th:only-of-type {\n",
       "        vertical-align: middle;\n",
       "    }\n",
       "\n",
       "    .dataframe tbody tr th {\n",
       "        vertical-align: top;\n",
       "    }\n",
       "\n",
       "    .dataframe thead th {\n",
       "        text-align: right;\n",
       "    }\n",
       "</style>\n",
       "<table border=\"1\" class=\"dataframe\">\n",
       "  <thead>\n",
       "    <tr style=\"text-align: right;\">\n",
       "      <th></th>\n",
       "      <th>NPI</th>\n",
       "      <th>Org_PAC_ID</th>\n",
       "      <th>source</th>\n",
       "      <th>final_MIPS_score</th>\n",
       "    </tr>\n",
       "  </thead>\n",
       "  <tbody>\n",
       "    <tr>\n",
       "      <th>0</th>\n",
       "      <td>1003028101</td>\n",
       "      <td>NaN</td>\n",
       "      <td>individual</td>\n",
       "      <td>60.0000</td>\n",
       "    </tr>\n",
       "    <tr>\n",
       "      <th>1</th>\n",
       "      <td>1003028556</td>\n",
       "      <td>NaN</td>\n",
       "      <td>individual</td>\n",
       "      <td>82.1725</td>\n",
       "    </tr>\n",
       "    <tr>\n",
       "      <th>2</th>\n",
       "      <td>1003220351</td>\n",
       "      <td>NaN</td>\n",
       "      <td>individual</td>\n",
       "      <td>60.0000</td>\n",
       "    </tr>\n",
       "    <tr>\n",
       "      <th>3</th>\n",
       "      <td>1003808494</td>\n",
       "      <td>NaN</td>\n",
       "      <td>individual</td>\n",
       "      <td>60.0000</td>\n",
       "    </tr>\n",
       "    <tr>\n",
       "      <th>4</th>\n",
       "      <td>1003813262</td>\n",
       "      <td>NaN</td>\n",
       "      <td>individual</td>\n",
       "      <td>47.1600</td>\n",
       "    </tr>\n",
       "  </tbody>\n",
       "</table>\n",
       "</div>"
      ],
      "text/plain": [
       "          NPI  Org_PAC_ID      source  final_MIPS_score\n",
       "0  1003028101         NaN  individual           60.0000\n",
       "1  1003028556         NaN  individual           82.1725\n",
       "2  1003220351         NaN  individual           60.0000\n",
       "3  1003808494         NaN  individual           60.0000\n",
       "4  1003813262         NaN  individual           47.1600"
      ]
     },
     "execution_count": 27,
     "metadata": {},
     "output_type": "execute_result"
    }
   ],
   "source": [
    "# Keep only the columns we need\n",
    "df_clean = df_clean[['NPI', 'Org_PAC_ID', 'source', 'final_MIPS_score']]\n",
    "df_clean.head()"
   ]
  },
  {
   "cell_type": "code",
   "execution_count": 29,
   "metadata": {},
   "outputs": [],
   "source": [
    "# Drop all missing data\n",
    "df_clean = df_clean.dropna()"
   ]
  },
  {
   "cell_type": "code",
   "execution_count": 30,
   "metadata": {},
   "outputs": [
    {
     "name": "stdout",
     "output_type": "stream",
     "text": [
      "<class 'pandas.core.frame.DataFrame'>\n",
      "Int64Index: 697134 entries, 1749 to 698882\n",
      "Data columns (total 4 columns):\n",
      " #   Column            Non-Null Count   Dtype  \n",
      "---  ------            --------------   -----  \n",
      " 0   NPI               697134 non-null  int64  \n",
      " 1   Org_PAC_ID        697134 non-null  float64\n",
      " 2   source            697134 non-null  object \n",
      " 3   final_MIPS_score  697134 non-null  float64\n",
      "dtypes: float64(2), int64(1), object(1)\n",
      "memory usage: 26.6+ MB\n"
     ]
    }
   ],
   "source": [
    "df_clean.info()"
   ]
  },
  {
   "attachments": {},
   "cell_type": "markdown",
   "metadata": {},
   "source": [
    "## EDA\n",
    "- Explore the org_pac_id\n",
    "- Explore the source\n",
    "- Explore the MIPs score"
   ]
  },
  {
   "cell_type": "code",
   "execution_count": 32,
   "metadata": {},
   "outputs": [
    {
     "data": {
      "text/plain": [
       "3375701568.0    4884\n",
       "6507778255.0    4300\n",
       "1355232422.0    3761\n",
       "8729990239.0    3715\n",
       "1052223229.0    2972\n",
       "                ... \n",
       "4486794849.0       1\n",
       "7315079217.0       1\n",
       "8820167075.0       1\n",
       "5193746766.0       1\n",
       "8921349168.0       1\n",
       "Name: Org_PAC_ID, Length: 52292, dtype: int64"
      ]
     },
     "execution_count": 32,
     "metadata": {},
     "output_type": "execute_result"
    }
   ],
   "source": [
    "df_clean['Org_PAC_ID'].astype('str').value_counts()"
   ]
  },
  {
   "attachments": {},
   "cell_type": "markdown",
   "metadata": {},
   "source": [
    "**Top Two Organization IDs**\n",
    "- 3375701568\n",
    "- 6507778255"
   ]
  },
  {
   "cell_type": "code",
   "execution_count": 34,
   "metadata": {},
   "outputs": [
    {
     "data": {
      "text/plain": [
       "group            468949\n",
       "apm              158698\n",
       "individual        69378\n",
       "virtual group       109\n",
       "Name: source, dtype: int64"
      ]
     },
     "execution_count": 34,
     "metadata": {},
     "output_type": "execute_result"
    }
   ],
   "source": [
    "df_clean['source'].value_counts()"
   ]
  },
  {
   "attachments": {},
   "cell_type": "markdown",
   "metadata": {},
   "source": [
    "To go back to the data dictionary these are:\n",
    "\n",
    "> Method by which the clinician achieved\n",
    "> scores (“individual”, “group”, “virtual group”,\n",
    "> or “apm”); if the source is “apm”, this\n",
    "> indicates that the MIPS APM scoring standard\n",
    "> was applied for this set of scores\n"
   ]
  },
  {
   "cell_type": "code",
   "execution_count": 47,
   "metadata": {},
   "outputs": [
    {
     "data": {
      "image/png": "[encoded data removed]",
      "text/plain": [
       "<Figure size 432x288 with 1 Axes>"
      ]
     },
     "metadata": {
      "needs_background": "light"
     },
     "output_type": "display_data"
    }
   ],
   "source": [
    "# Explore the MIPS scores\n",
    "df_clean['final_MIPS_score'].hist();"
   ]
  },
  {
   "cell_type": "code",
   "execution_count": 41,
   "metadata": {},
   "outputs": [
    {
     "data": {
      "image/png": "[encoded data removed]",
      "text/plain": [
       "<Figure size 432x288 with 1 Axes>"
      ]
     },
     "metadata": {
      "needs_background": "light"
     },
     "output_type": "display_data"
    }
   ],
   "source": [
    "# Explore the MIPS scores\n",
    "df_clean.boxplot(column='final_MIPS_score');"
   ]
  },
  {
   "attachments": {},
   "cell_type": "markdown",
   "metadata": {},
   "source": [
    "**Observations**\n",
    "- I'm noticing lots of low outliers\n",
    "- The data seems to be fairly non-normally distributed\n",
    "- The data is skewed left\n",
    "- The data is leptokurtic"
   ]
  },
  {
   "cell_type": "code",
   "execution_count": 45,
   "metadata": {},
   "outputs": [
    {
     "data": {
      "text/plain": [
       "89.4065    4718\n",
       "7.5000      165\n",
       "60.0000       1\n",
       "Name: final_MIPS_score, dtype: int64"
      ]
     },
     "execution_count": 45,
     "metadata": {},
     "output_type": "execute_result"
    }
   ],
   "source": [
    "df_clean[ df_clean['Org_PAC_ID']==org_1 ]['final_MIPS_score'].value_counts()"
   ]
  },
  {
   "cell_type": "code",
   "execution_count": 60,
   "metadata": {},
   "outputs": [
    {
     "data": {
      "image/png": "[encoded data removed]",
      "text/plain": [
       "<Figure size 576x432 with 1 Axes>"
      ]
     },
     "metadata": {
      "needs_background": "light"
     },
     "output_type": "display_data"
    }
   ],
   "source": [
    "# Average final MIPS score by source\n",
    "fig, ax = plt.subplots(figsize=(8,6))\n",
    "sns.boxplot(data=df_clean,x='source',y='final_MIPS_score',ax=ax)\n",
    "ax.set_title('Final MIPS Scores by Source');"
   ]
  },
  {
   "attachments": {},
   "cell_type": "markdown",
   "metadata": {},
   "source": [
    "**Observations**\n",
    "- The widest range is in the individual section\n",
    "- There are a significant number of outliers in the group and APM sources"
   ]
  },
  {
   "cell_type": "code",
   "execution_count": 61,
   "metadata": {},
   "outputs": [
    {
     "data": {
      "text/plain": [
       "3779471701.0    210\n",
       "2264344480.0    207\n",
       "7012047640.0    172\n",
       "9830082882.0    152\n",
       "9032111281.0    140\n",
       "               ... \n",
       "2668412982.0      1\n",
       "5092784728.0      1\n",
       "4183922362.0      1\n",
       "4082844972.0      1\n",
       "1456667161.0      1\n",
       "Name: Org_PAC_ID, Length: 35044, dtype: int64"
      ]
     },
     "execution_count": 61,
     "metadata": {},
     "output_type": "execute_result"
    }
   ],
   "source": [
    "# We're looking for variation so let's explore the individual source\n",
    "source_filter = df_clean['source']=='individual'\n",
    "\n",
    "df_clean[source_filter]['Org_PAC_ID'].astype('str').value_counts()"
   ]
  },
  {
   "cell_type": "code",
   "execution_count": 68,
   "metadata": {},
   "outputs": [
    {
     "data": {
      "image/png": "[encoded data removed]",
      "text/plain": [
       "<Figure size 432x288 with 2 Axes>"
      ]
     },
     "metadata": {
      "needs_background": "light"
     },
     "output_type": "display_data"
    }
   ],
   "source": [
    "# Exploring the top two organizations\n",
    "org_1 = 3779471701\n",
    "org_2 = 2264344480\n",
    "\n",
    "org_1_data = df_clean[ df_clean['Org_PAC_ID']==org_1 ]['final_MIPS_score']\n",
    "org_2_data = df_clean[ df_clean['Org_PAC_ID']==org_2 ]['final_MIPS_score']\n",
    "\n",
    "fig, axs = plt.subplots(2)\n",
    "fig.suptitle('Comparing two organizations MIPS Scores')\n",
    "axs[0].hist(org_1_data)\n",
    "axs[1].hist(org_2_data);"
   ]
  },
  {
   "attachments": {},
   "cell_type": "markdown",
   "metadata": {},
   "source": [
    "**Observations**\n",
    "- They look fairly different\n",
    "- They're both fairly non-normally distributed"
   ]
  },
  {
   "attachments": {},
   "cell_type": "markdown",
   "metadata": {},
   "source": [
    "## Modeling\n"
   ]
  },
  {
   "attachments": {},
   "cell_type": "markdown",
   "metadata": {},
   "source": [
    "Let's now answer the question if these two organizations are significantly different. (two-sided two-sample t-test)\n",
    "\n",
    "$H_0$: _There is no difference between these two organizations MIPS scores\n",
    "\n",
    "$H_1$: _There is a difference between the these two organizations MIPS scores\n",
    "\n",
    "We'll use an significance level of $\\alpha = 0.05$\n",
    "\n",
    "In python this is a single line"
   ]
  },
  {
   "cell_type": "code",
   "execution_count": 63,
   "metadata": {},
   "outputs": [
    {
     "data": {
      "text/plain": [
       "Ttest_indResult(statistic=-23.607082928158665, pvalue=3.858864879417511e-61)"
      ]
     },
     "execution_count": 63,
     "metadata": {},
     "output_type": "execute_result"
    }
   ],
   "source": [
    "stats.ttest_ind(org_1_data, org_2_data, equal_var=False)"
   ]
  },
  {
   "attachments": {},
   "cell_type": "markdown",
   "metadata": {},
   "source": [
    "Our p-value is less than $\\alpha$ so we can conclude that these two populations are significantly different"
   ]
  },
  {
   "attachments": {},
   "cell_type": "markdown",
   "metadata": {},
   "source": [
    "# Conclusion\n",
    "Different organizations have significantly different MIPS scores when individually sourced"
   ]
  },
  {
   "cell_type": "code",
   "execution_count": 93,
   "metadata": {},
   "outputs": [
    {
     "data": {
      "image/png": "[encoded data removed]",
      "text/plain": [
       "<Figure size 576x432 with 1 Axes>"
      ]
     },
     "metadata": {},
     "output_type": "display_data"
    }
   ],
   "source": [
    "fig, axs = plt.subplots(figsize=(8,6))\n",
    "sns.histplot(org_1_data, label='Org 1')\n",
    "sns.histplot(org_2_data, label='Org 2',color='orange', alpha=.5)\n",
    "\n",
    "plt.xlabel(\"MIPS Score\")\n",
    "plt.ylabel(\"Frequency\")\n",
    "plt.title(\"Distribution of MIPS score for Top 2 Orgs\")\n",
    "plt.legend();"
   ]
  },
  {
   "cell_type": "markdown",
   "metadata": {},
   "source": []
  }
 ],
 "metadata": {
  "kernelspec": {
   "display_name": "learn-env",
   "language": "python",
   "name": "python3"
  },
  "language_info": {
   "codemirror_mode": {
    "name": "ipython",
    "version": 3
   },
   "file_extension": ".py",
   "mimetype": "text/x-python",
   "name": "python",
   "nbconvert_exporter": "python",
   "pygments_lexer": "ipython3",
   "version": "3.8.5"
  },
  "orig_nbformat": 4
 },
 "nbformat": 4,
 "nbformat_minor": 2
}
